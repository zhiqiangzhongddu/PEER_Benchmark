{
 "cells": [
  {
   "cell_type": "code",
   "execution_count": 1,
   "metadata": {
    "collapsed": true,
    "ExecuteTime": {
     "end_time": "2023-06-22T16:03:05.700415Z",
     "start_time": "2023-06-22T16:02:06.757186Z"
    }
   },
   "outputs": [],
   "source": [
    "import sys\n",
    "import os\n",
    "from torchdrug.utils import comm, pretty\n",
    "from torchdrug import data, core, utils\n",
    "from torch.utils import data as torch_data\n",
    "\n",
    "from IPython import get_ipython\n",
    "def is_notebook() -> bool:\n",
    "    try:\n",
    "        shell = get_ipython().__class__.__name__\n",
    "        if shell == 'ZMQInteractiveShell':\n",
    "            return True   # Jupyter notebook or qtconsole\n",
    "        elif shell == 'TerminalInteractiveShell':\n",
    "            return False  # Terminal running IPython\n",
    "        else:\n",
    "            return False  # Other type (?)\n",
    "    except NameError:\n",
    "        return False      # Probably standard Python interpreter\n",
    "\n",
    "if is_notebook():\n",
    "    sys.path.append('/home/zhiqiang/PEER_Benchmark')\n",
    "else:\n",
    "    sys.path.append(os.path.dirname(os.path.dirname(__file__)))\n",
    "\n",
    "from peer import protbert, util, flip\n",
    "from script.run_single import *"
   ]
  },
  {
   "cell_type": "code",
   "execution_count": 1,
   "outputs": [],
   "source": [],
   "metadata": {
    "collapsed": false,
    "ExecuteTime": {
     "end_time": "2023-06-22T07:06:06.530153Z",
     "start_time": "2023-06-22T07:06:06.524621Z"
    }
   }
  },
  {
   "cell_type": "code",
   "execution_count": 2,
   "outputs": [],
   "source": [
    "# train the model, same as PEER code\n",
    "args = parse_args()\n",
    "\n",
    "args.config = '/home/zhiqiang/PEER_Benchmark/config/single_task/ESM/gb1_ESM_fix.yaml' if is_notebook() else os.path.realpath(args.config)\n",
    "cfg = util.load_config(args.config)\n",
    "\n",
    "cfg.dataset[\"split\"] = args.split if is_notebook() else \"two_vs_rest\""
   ],
   "metadata": {
    "collapsed": false,
    "ExecuteTime": {
     "end_time": "2023-06-22T07:06:06.532402Z",
     "start_time": "2023-06-22T07:06:06.528082Z"
    }
   }
  },
  {
   "cell_type": "code",
   "execution_count": 2,
   "outputs": [],
   "source": [],
   "metadata": {
    "collapsed": false,
    "ExecuteTime": {
     "end_time": "2023-06-22T06:32:08.041175Z",
     "start_time": "2023-06-22T06:32:08.037119Z"
    }
   }
  },
  {
   "cell_type": "code",
   "execution_count": null,
   "outputs": [],
   "source": [
    "set_seed(args.seed)\n",
    "output_dir = util.create_working_directory(cfg)\n",
    "logger = util.get_root_logger()\n",
    "if comm.get_rank() == 0:\n",
    "    logger.warning(\"Config file: %s\" % args.config)\n",
    "    logger.warning(pprint.pformat(cfg))\n",
    "    logger.warning(\"Output dir: %s\" % output_dir)\n",
    "    shutil.copyfile(args.config, os.path.basename(args.config))\n",
    "os.chdir(output_dir)\n",
    "\n",
    "solver = build_solver(cfg, logger)\n",
    "solver, best_epoch = train_and_validate(cfg, solver)\n",
    "if comm.get_rank() == 0:\n",
    "    logger.warning(\"Best epoch on valid: %d\" % best_epoch)\n",
    "test(cfg, solver)"
   ],
   "metadata": {
    "collapsed": false
   }
  },
  {
   "cell_type": "code",
   "execution_count": 7,
   "outputs": [],
   "source": [],
   "metadata": {
    "collapsed": false,
    "ExecuteTime": {
     "end_time": "2023-06-22T06:35:39.453630Z",
     "start_time": "2023-06-22T06:35:39.452405Z"
    }
   }
  },
  {
   "cell_type": "code",
   "execution_count": 4,
   "outputs": [],
   "source": [
    "# code: https://torchdrug.ai/docs/_modules/torchdrug/core/engine.html#Engine.evaluate\n",
    "def get_embedding(solver, split):\n",
    "    # split = \"train\"\n",
    "\n",
    "    if comm.get_rank() == 0:\n",
    "        logger.warning(pretty.separator)\n",
    "        logger.warning(\"Extract on %s\" % split)\n",
    "    test_set = getattr(solver, \"%s_set\" % split)\n",
    "    sampler = torch_data.DistributedSampler(test_set, solver.world_size, solver.rank)\n",
    "    dataloader = data.DataLoader(test_set, solver.batch_size, sampler=sampler, num_workers=solver.num_worker)\n",
    "    model = solver.model.model\n",
    "\n",
    "    model.eval()\n",
    "    preds = []\n",
    "    targets = []\n",
    "    graph_features = []\n",
    "    for batch in dataloader:\n",
    "        if solver.device.type == \"cuda\":\n",
    "            batch = utils.cuda(batch, device=solver.device)\n",
    "\n",
    "        all_loss = torch.tensor(0, dtype=torch.float32, device=solver.device)\n",
    "        metric = {}\n",
    "\n",
    "        graph = batch[\"graph\"]\n",
    "        if solver.model.graph_construction_model:\n",
    "            graph = solver.model.graph_construction_model(graph)\n",
    "        output = solver.model.model(graph, graph.node_feature.float(), all_loss=all_loss, metric=metric)\n",
    "        graph_feature = output[\"graph_feature\"].cpu()\n",
    "\n",
    "        pred = solver.model.mlp(output[\"graph_feature\"])\n",
    "        if solver.model.normalization:\n",
    "            pred = pred * solver.model.std + solver.model.mean\n",
    "        target = solver.model.target(batch)\n",
    "        preds.append(pred)\n",
    "        targets.append(target)\n",
    "        if solver.world_size > 1:\n",
    "            pred = comm.cat(pred)\n",
    "            target = comm.cat(target)\n",
    "\n",
    "        graph_features.append(graph_feature)\n",
    "\n",
    "    pred = utils.cat(preds)\n",
    "    target = utils.cat(targets)\n",
    "    graph_features = utils.cat(graph_features)\n",
    "\n",
    "    metric = solver.model.evaluate(pred, target)\n",
    "\n",
    "    return graph_features, metric"
   ],
   "metadata": {
    "collapsed": false,
    "ExecuteTime": {
     "end_time": "2023-06-21T12:21:08.756569Z",
     "start_time": "2023-06-21T12:21:08.736914Z"
    }
   }
  },
  {
   "cell_type": "code",
   "execution_count": 4,
   "outputs": [],
   "source": [],
   "metadata": {
    "collapsed": false,
    "ExecuteTime": {
     "end_time": "2023-06-21T12:21:08.756612Z",
     "start_time": "2023-06-21T12:21:08.737032Z"
    }
   }
  },
  {
   "cell_type": "code",
   "execution_count": 5,
   "outputs": [
    {
     "name": "stdout",
     "output_type": "stream",
     "text": [
      "12:21:08   >>>>>>>>>>>>>>>>>>>>>>>>>>>>>>\n",
      "12:21:08   Extract on train\n",
      "12:22:01   >>>>>>>>>>>>>>>>>>>>>>>>>>>>>>\n",
      "12:22:01   Extract on valid\n",
      "12:22:07   >>>>>>>>>>>>>>>>>>>>>>>>>>>>>>\n",
      "12:22:07   Extract on test\n"
     ]
    }
   ],
   "source": [
    "graph_train, metric_train = get_embedding(solver, 'train')\n",
    "graph_valid, metric_valid = get_embedding(solver, 'valid')\n",
    "graph_test, metric_test = get_embedding(solver, 'test')\n",
    "\n",
    "graphs = utils.cat([graph_train, graph_valid, graph_test])"
   ],
   "metadata": {
    "collapsed": false,
    "ExecuteTime": {
     "end_time": "2023-06-21T12:41:58.331565Z",
     "start_time": "2023-06-21T12:21:08.737102Z"
    }
   }
  },
  {
   "cell_type": "code",
   "execution_count": 5,
   "outputs": [],
   "source": [],
   "metadata": {
    "collapsed": false,
    "ExecuteTime": {
     "end_time": "2023-06-21T12:41:58.332155Z",
     "start_time": "2023-06-21T12:41:58.330571Z"
    }
   }
  },
  {
   "cell_type": "code",
   "execution_count": 7,
   "outputs": [
    {
     "name": "stdout",
     "output_type": "stream",
     "text": [
      "/home/zhiqiang/PEER_Benchmark/script/extracted_embeddings/GB1_ESM-1b_two_vs_rest_Spearman_train_0.296_valid_0.073_test_0.316.pt\n"
     ]
    }
   ],
   "source": [
    "if cfg.get(\"fix_encoder\"):\n",
    "    save_file = \"/home/zhiqiang/PEER_Benchmark/script/extracted_embeddings/{}_{}.pt\".format(\n",
    "        cfg.dataset[\"class\"],\n",
    "        cfg.task[\"model\"][\"model\"]\n",
    "    )\n",
    "else:\n",
    "    save_file = \"/home/zhiqiang/PEER_Benchmark/script/extracted_embeddings/\" \\\n",
    "                \"{}_{}_{}_Spearman_train_{:.3f}_valid_{:.3f}_test_{:.3f}.pt\".format(\n",
    "        cfg.dataset[\"class\"],\n",
    "        cfg.task[\"model\"][\"model\"],\n",
    "        cfg.dataset[\"split\"],\n",
    "        metric_train[\"spearmanr [target]\"].cpu().numpy().tolist(),\n",
    "        metric_valid[\"spearmanr [target]\"].cpu().numpy().tolist(),\n",
    "        metric_test[\"spearmanr [target]\"].cpu().numpy().tolist()\n",
    "    )\n",
    "print(save_file)\n",
    "torch.save(graphs, save_file)"
   ],
   "metadata": {
    "collapsed": false,
    "ExecuteTime": {
     "end_time": "2023-06-21T12:42:06.988089Z",
     "start_time": "2023-06-21T12:42:06.940526Z"
    }
   }
  },
  {
   "cell_type": "code",
   "execution_count": 7,
   "outputs": [],
   "source": [
    "# python script/run_single.py -c config/single_task/$model/$yaml_config --seed 0"
   ],
   "metadata": {
    "collapsed": false,
    "ExecuteTime": {
     "end_time": "2023-06-21T12:42:06.988508Z",
     "start_time": "2023-06-21T12:42:06.986470Z"
    }
   }
  },
  {
   "cell_type": "code",
   "execution_count": null,
   "outputs": [],
   "source": [],
   "metadata": {
    "collapsed": false
   }
  }
 ],
 "metadata": {
  "kernelspec": {
   "display_name": "Python 3",
   "language": "python",
   "name": "python3"
  },
  "language_info": {
   "codemirror_mode": {
    "name": "ipython",
    "version": 2
   },
   "file_extension": ".py",
   "mimetype": "text/x-python",
   "name": "python",
   "nbconvert_exporter": "python",
   "pygments_lexer": "ipython2",
   "version": "2.7.6"
  }
 },
 "nbformat": 4,
 "nbformat_minor": 0
}
